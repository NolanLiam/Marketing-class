{
  "nbformat": 4,
  "nbformat_minor": 0,
  "metadata": {
    "colab": {
      "name": "Solved_A9_F2021_Segmentation.ipynb",
      "provenance": [],
      "collapsed_sections": []
    },
    "kernelspec": {
      "name": "python3",
      "display_name": "Python 3"
    }
  },
  "cells": [
    {
      "cell_type": "markdown",
      "metadata": {
        "id": "v8tuBEKOxdJH"
      },
      "source": [
        "# A9 Customer Segmentation\n",
        "\n",
        "**Rationale** The idea for this assignment is to give you hands on experience in applying behavioral segmentation techniques to real world data where the variables you use for segmentation are not already created for you (you must define them first). Thus you must first do \"feature engineering\" before you can do segmentation. Don't worry, this problem is broken down into components.\n",
        "\n",
        "The dataset we use is [retail invoice](https://drive.google.com/drive/folders/1IUq9xm_0jWEs41iFp8TSWpb0CbPiT87m?usp=sharing). Each invoice is one purchase occassion, and for each invoice we have several observations representing the unique items (stockcode) purchased on that occassion.\n",
        "\n",
        "The goal of the first part is to create useful features about each consumer's observed behaviors, i.e. go from transaction level to customer level data. The goal of the second part is to then do behavioral segmentation based on these newly constructed features. "
      ]
    },
    {
      "cell_type": "markdown",
      "metadata": {
        "id": "B3dWWTS5s0CG"
      },
      "source": [
        "# Part 1 Feature Engineering (5 points)\n",
        "\n",
        "Generally, feature engineering is where your marketing domain knowledge comes into play. In other words, your intuitions about what matters in terms of separating consumers into different groups should drive what features (aka variables/columns) to create. However, in this assignment, you are expected to compute the characteristics detailed in the following instructions.\n"
      ]
    },
    {
      "cell_type": "markdown",
      "metadata": {
        "id": "kuRzBzBmtCeN"
      },
      "source": [
        "Read in the data, preview it, and familiarize yourself with the contents of the data."
      ]
    },
    {
      "cell_type": "code",
      "metadata": {
        "colab": {
          "base_uri": "https://localhost:8080/"
        },
        "id": "tGm3SB4BtEGQ",
        "outputId": "6c8c47f1-1d23-4673-b7a9-88813c67ac3a"
      },
      "source": [
        "import pandas as pd, numpy as np, os, matplotlib.pyplot as plt\n",
        "from google.colab import drive\n",
        "from sklearn.decomposition import PCA\n",
        "from sklearn.cluster import KMeans\n",
        "drive.mount('drive')"
      ],
      "execution_count": null,
      "outputs": [
        {
          "output_type": "stream",
          "name": "stdout",
          "text": [
            "Mounted at drive\n"
          ]
        }
      ]
    },
    {
      "cell_type": "code",
      "metadata": {
        "colab": {
          "base_uri": "https://localhost:8080/"
        },
        "id": "A16TwN9btXws",
        "outputId": "857d5f0d-ec4a-49fd-8a78-b1869e283e4c"
      },
      "source": [
        "fpath = '/content/drive/MyDrive/A9' # change the path here\n",
        "os.listdir(fpath)"
      ],
      "execution_count": null,
      "outputs": [
        {
          "output_type": "execute_result",
          "data": {
            "text/plain": [
              "['online_invoices.gsheet', 'online_invoices.csv']"
            ]
          },
          "metadata": {},
          "execution_count": 2
        }
      ]
    },
    {
      "cell_type": "code",
      "metadata": {
        "id": "-lVcVTC9tgmm"
      },
      "source": [
        "# Read in the data (csv file)\n",
        "df = pd.read_csv(fpath + '/online_invoices.csv', index_col = 0)"
      ],
      "execution_count": null,
      "outputs": []
    },
    {
      "cell_type": "code",
      "metadata": {
        "id": "VKsPGGcLtn_w",
        "colab": {
          "base_uri": "https://localhost:8080/",
          "height": 206
        },
        "outputId": "4a138fa5-e079-421f-82c7-e4f08e86d31b"
      },
      "source": [
        "# Preview the data\n",
        "df.head()"
      ],
      "execution_count": null,
      "outputs": [
        {
          "output_type": "execute_result",
          "data": {
            "text/html": [
              "<div>\n",
              "<style scoped>\n",
              "    .dataframe tbody tr th:only-of-type {\n",
              "        vertical-align: middle;\n",
              "    }\n",
              "\n",
              "    .dataframe tbody tr th {\n",
              "        vertical-align: top;\n",
              "    }\n",
              "\n",
              "    .dataframe thead th {\n",
              "        text-align: right;\n",
              "    }\n",
              "</style>\n",
              "<table border=\"1\" class=\"dataframe\">\n",
              "  <thead>\n",
              "    <tr style=\"text-align: right;\">\n",
              "      <th></th>\n",
              "      <th>InvoiceNo</th>\n",
              "      <th>StockCode</th>\n",
              "      <th>Description</th>\n",
              "      <th>Quantity</th>\n",
              "      <th>InvoiceDate</th>\n",
              "      <th>UnitPrice</th>\n",
              "      <th>CustomerID</th>\n",
              "      <th>Country</th>\n",
              "    </tr>\n",
              "  </thead>\n",
              "  <tbody>\n",
              "    <tr>\n",
              "      <th>0</th>\n",
              "      <td>536365</td>\n",
              "      <td>85123A</td>\n",
              "      <td>WHITE HANGING HEART T-LIGHT HOLDER</td>\n",
              "      <td>6</td>\n",
              "      <td>12/1/2010 8:26</td>\n",
              "      <td>2.55</td>\n",
              "      <td>17850.0</td>\n",
              "      <td>United Kingdom</td>\n",
              "    </tr>\n",
              "    <tr>\n",
              "      <th>1</th>\n",
              "      <td>536365</td>\n",
              "      <td>71053</td>\n",
              "      <td>WHITE METAL LANTERN</td>\n",
              "      <td>6</td>\n",
              "      <td>12/1/2010 8:26</td>\n",
              "      <td>3.39</td>\n",
              "      <td>17850.0</td>\n",
              "      <td>United Kingdom</td>\n",
              "    </tr>\n",
              "    <tr>\n",
              "      <th>2</th>\n",
              "      <td>536365</td>\n",
              "      <td>84406B</td>\n",
              "      <td>CREAM CUPID HEARTS COAT HANGER</td>\n",
              "      <td>8</td>\n",
              "      <td>12/1/2010 8:26</td>\n",
              "      <td>2.75</td>\n",
              "      <td>17850.0</td>\n",
              "      <td>United Kingdom</td>\n",
              "    </tr>\n",
              "    <tr>\n",
              "      <th>3</th>\n",
              "      <td>536365</td>\n",
              "      <td>84029G</td>\n",
              "      <td>KNITTED UNION FLAG HOT WATER BOTTLE</td>\n",
              "      <td>6</td>\n",
              "      <td>12/1/2010 8:26</td>\n",
              "      <td>3.39</td>\n",
              "      <td>17850.0</td>\n",
              "      <td>United Kingdom</td>\n",
              "    </tr>\n",
              "    <tr>\n",
              "      <th>4</th>\n",
              "      <td>536365</td>\n",
              "      <td>84029E</td>\n",
              "      <td>RED WOOLLY HOTTIE WHITE HEART.</td>\n",
              "      <td>6</td>\n",
              "      <td>12/1/2010 8:26</td>\n",
              "      <td>3.39</td>\n",
              "      <td>17850.0</td>\n",
              "      <td>United Kingdom</td>\n",
              "    </tr>\n",
              "  </tbody>\n",
              "</table>\n",
              "</div>"
            ],
            "text/plain": [
              "   InvoiceNo StockCode  ... CustomerID         Country\n",
              "0     536365    85123A  ...    17850.0  United Kingdom\n",
              "1     536365     71053  ...    17850.0  United Kingdom\n",
              "2     536365    84406B  ...    17850.0  United Kingdom\n",
              "3     536365    84029G  ...    17850.0  United Kingdom\n",
              "4     536365    84029E  ...    17850.0  United Kingdom\n",
              "\n",
              "[5 rows x 8 columns]"
            ]
          },
          "metadata": {},
          "execution_count": 5
        }
      ]
    },
    {
      "cell_type": "markdown",
      "metadata": {
        "id": "Ui2NVHT2t6Vu"
      },
      "source": [
        "**Answer questions here**\n",
        "\n",
        "What does each row represent? _______C. Each unique item sold in a transaction________\n",
        "\n",
        "A. 1 invoice (1 point of sale transaction) \\\\\n",
        "B. A single item sold \\\\\n",
        "C. Each unique item sold in a transaction \\\\\n",
        "D. Daily sales \\\\\n",
        "E. 1 customer's total purchases on each day\n"
      ]
    },
    {
      "cell_type": "markdown",
      "metadata": {
        "id": "Oxk5psRYtTmq"
      },
      "source": [
        "\n",
        "## Unique count variables\n",
        "\n",
        "Create a dataframe, `df_u` that represents each consumer's total number of transactions and unique products purchased.\n",
        "\n",
        "Hint: use a `groupby` + `.nunique()` statement. `df.groupby('id')[['var1', 'var2',....]].nunique().reset_index()` will compute the number of unique values of columns 'var1', 'var2',.... for each \"id\". You should calculate the number of unique `StockCode`'s (like SKU's) and `InvoicesNo`'s for each `CustomerID`. Change your column names in the resulting dataframe, `df_u`, to `['CustomerID', 'NTrans', 'NProducts']`.\n",
        "\n"
      ]
    },
    {
      "cell_type": "code",
      "metadata": {
        "id": "iBChy9Wit6YH"
      },
      "source": [
        "# use a groupby operation with the nunique summary function to calculate the number of unique\n",
        "# transactions and product SKU's for each item\n",
        "# call the resulting dataframe df_u\n",
        "df_u = df.groupby('CustomerID')[[ 'InvoiceNo', 'StockCode']].nunique().reset_index()\n"
      ],
      "execution_count": null,
      "outputs": []
    },
    {
      "cell_type": "code",
      "metadata": {
        "id": "lU8oH59PC_n6"
      },
      "source": [
        "# rename the columns for unique transactions and products purchased to:\n",
        "# NTrans and NProducts, respectively\n",
        "# Remember, you can either use the syntax dataframe.columns = ['col1', 'col2',....] <- set all the column names using list of strings for each column\n",
        "# or you can use dataframe.rename(columns = {'oldcolname':'newcolname', 'oldcolname2':'newcolname2', ....}, inplace = True) <- rename only the ones that should be renamed\n",
        "df_u = df_u.rename(columns = { 'InvoiceNo':'NTrans', 'StockCode':'NProducts' })\n",
        "\n"
      ],
      "execution_count": null,
      "outputs": []
    },
    {
      "cell_type": "code",
      "metadata": {
        "id": "GyMvxP5qMTk-",
        "colab": {
          "base_uri": "https://localhost:8080/",
          "height": 206
        },
        "outputId": "ba5884c8-1745-4811-e293-478879e5b830"
      },
      "source": [
        "# take a look at the first 5 rows of resulting dataframe, make sure contents are what you expect\n",
        "df_u.head()\n"
      ],
      "execution_count": null,
      "outputs": [
        {
          "output_type": "execute_result",
          "data": {
            "text/html": [
              "<div>\n",
              "<style scoped>\n",
              "    .dataframe tbody tr th:only-of-type {\n",
              "        vertical-align: middle;\n",
              "    }\n",
              "\n",
              "    .dataframe tbody tr th {\n",
              "        vertical-align: top;\n",
              "    }\n",
              "\n",
              "    .dataframe thead th {\n",
              "        text-align: right;\n",
              "    }\n",
              "</style>\n",
              "<table border=\"1\" class=\"dataframe\">\n",
              "  <thead>\n",
              "    <tr style=\"text-align: right;\">\n",
              "      <th></th>\n",
              "      <th>CustomerID</th>\n",
              "      <th>NTrans</th>\n",
              "      <th>NProducts</th>\n",
              "    </tr>\n",
              "  </thead>\n",
              "  <tbody>\n",
              "    <tr>\n",
              "      <th>0</th>\n",
              "      <td>12346.0</td>\n",
              "      <td>1</td>\n",
              "      <td>1</td>\n",
              "    </tr>\n",
              "    <tr>\n",
              "      <th>1</th>\n",
              "      <td>12347.0</td>\n",
              "      <td>7</td>\n",
              "      <td>103</td>\n",
              "    </tr>\n",
              "    <tr>\n",
              "      <th>2</th>\n",
              "      <td>12348.0</td>\n",
              "      <td>4</td>\n",
              "      <td>21</td>\n",
              "    </tr>\n",
              "    <tr>\n",
              "      <th>3</th>\n",
              "      <td>12349.0</td>\n",
              "      <td>1</td>\n",
              "      <td>72</td>\n",
              "    </tr>\n",
              "    <tr>\n",
              "      <th>4</th>\n",
              "      <td>12350.0</td>\n",
              "      <td>1</td>\n",
              "      <td>16</td>\n",
              "    </tr>\n",
              "  </tbody>\n",
              "</table>\n",
              "</div>"
            ],
            "text/plain": [
              "   CustomerID  NTrans  NProducts\n",
              "0     12346.0       1          1\n",
              "1     12347.0       7        103\n",
              "2     12348.0       4         21\n",
              "3     12349.0       1         72\n",
              "4     12350.0       1         16"
            ]
          },
          "metadata": {},
          "execution_count": 18
        }
      ]
    },
    {
      "cell_type": "markdown",
      "metadata": {
        "id": "YLPqoJNPJCNE"
      },
      "source": [
        "\n",
        "## Customer spend\n",
        "\n",
        "Compute the total customer spending and number of units purchased for each customer of this retailer. \n",
        "\n",
        "Hint\n",
        "1. Create a column for `TotalSpend` (unit price x quantity)\n",
        "1. Use a (groupby + sum) to create a dataframe `df_s` that contains each customer's sum of `TotalSpend` and `Quantity`\n",
        "1. rename the quantity column to `TotalUnits`\n"
      ]
    },
    {
      "cell_type": "code",
      "metadata": {
        "id": "edY2KenyJGp4"
      },
      "source": [
        "# create total spend column\n",
        "df['TotalSpend'] = df['UnitPrice']*df['Quantity']\n"
      ],
      "execution_count": null,
      "outputs": []
    },
    {
      "cell_type": "code",
      "metadata": {
        "id": "wLl_CD_0MFHZ"
      },
      "source": [
        "# create dataframe, df_s, that contains the total spend and quantity for each customer using groupby statement\n",
        "# remember to reset_index\n",
        "\n",
        "df_s = df.groupby('CustomerID')[[ 'TotalSpend', 'Quantity']].sum().reset_index()"
      ],
      "execution_count": null,
      "outputs": []
    },
    {
      "cell_type": "code",
      "metadata": {
        "id": "oKLd7Pc0PVso"
      },
      "source": [
        "# rename columns so that resulting dataframe has columns: CustomerID, TotalSpend, and TotalUnits\n",
        "df_s = df_s.rename(columns = { 'Quantity':'TotalUnits' })\n"
      ],
      "execution_count": null,
      "outputs": []
    },
    {
      "cell_type": "code",
      "metadata": {
        "id": "mW2xFRfCMabu",
        "colab": {
          "base_uri": "https://localhost:8080/",
          "height": 206
        },
        "outputId": "d14c5043-b996-4412-b2b2-c6f5509019ce"
      },
      "source": [
        "# take a look at the first 5 rows of resulting dataframe, make sure contents are what you expect\n",
        "df_s.head()\n"
      ],
      "execution_count": null,
      "outputs": [
        {
          "output_type": "execute_result",
          "data": {
            "text/html": [
              "<div>\n",
              "<style scoped>\n",
              "    .dataframe tbody tr th:only-of-type {\n",
              "        vertical-align: middle;\n",
              "    }\n",
              "\n",
              "    .dataframe tbody tr th {\n",
              "        vertical-align: top;\n",
              "    }\n",
              "\n",
              "    .dataframe thead th {\n",
              "        text-align: right;\n",
              "    }\n",
              "</style>\n",
              "<table border=\"1\" class=\"dataframe\">\n",
              "  <thead>\n",
              "    <tr style=\"text-align: right;\">\n",
              "      <th></th>\n",
              "      <th>CustomerID</th>\n",
              "      <th>TotalSpend</th>\n",
              "      <th>TotalUnits</th>\n",
              "    </tr>\n",
              "  </thead>\n",
              "  <tbody>\n",
              "    <tr>\n",
              "      <th>0</th>\n",
              "      <td>12346.0</td>\n",
              "      <td>77183.60</td>\n",
              "      <td>74215</td>\n",
              "    </tr>\n",
              "    <tr>\n",
              "      <th>1</th>\n",
              "      <td>12347.0</td>\n",
              "      <td>4310.00</td>\n",
              "      <td>2458</td>\n",
              "    </tr>\n",
              "    <tr>\n",
              "      <th>2</th>\n",
              "      <td>12348.0</td>\n",
              "      <td>1437.24</td>\n",
              "      <td>2332</td>\n",
              "    </tr>\n",
              "    <tr>\n",
              "      <th>3</th>\n",
              "      <td>12349.0</td>\n",
              "      <td>1457.55</td>\n",
              "      <td>630</td>\n",
              "    </tr>\n",
              "    <tr>\n",
              "      <th>4</th>\n",
              "      <td>12350.0</td>\n",
              "      <td>294.40</td>\n",
              "      <td>196</td>\n",
              "    </tr>\n",
              "  </tbody>\n",
              "</table>\n",
              "</div>"
            ],
            "text/plain": [
              "   CustomerID  TotalSpend  TotalUnits\n",
              "0     12346.0    77183.60       74215\n",
              "1     12347.0     4310.00        2458\n",
              "2     12348.0     1437.24        2332\n",
              "3     12349.0     1457.55         630\n",
              "4     12350.0      294.40         196"
            ]
          },
          "metadata": {},
          "execution_count": 27
        }
      ]
    },
    {
      "cell_type": "markdown",
      "metadata": {
        "id": "8LWkk_qSOrs8"
      },
      "source": [
        "\n",
        "## Compute price of average SKU purchased\n",
        "\n",
        "Compute and create the `AveragePrice` column using the `df_s` dataframe's `TotalUnits` and `TotalSpend`.\n"
      ]
    },
    {
      "cell_type": "code",
      "metadata": {
        "id": "KJ2CXoeoPGaA"
      },
      "source": [
        "# create average price column in df_s\n",
        "df_s['AveragePrice'] = df_s['TotalSpend']/df_s['TotalUnits']\n"
      ],
      "execution_count": null,
      "outputs": []
    },
    {
      "cell_type": "code",
      "metadata": {
        "id": "d8cqACS8Osz7",
        "colab": {
          "base_uri": "https://localhost:8080/",
          "height": 206
        },
        "outputId": "1347f799-19bf-4488-fc44-1ec1588ced65"
      },
      "source": [
        "# preview df_s to make sure average price is as expected\n",
        "df_s.head()\n"
      ],
      "execution_count": null,
      "outputs": [
        {
          "output_type": "execute_result",
          "data": {
            "text/html": [
              "<div>\n",
              "<style scoped>\n",
              "    .dataframe tbody tr th:only-of-type {\n",
              "        vertical-align: middle;\n",
              "    }\n",
              "\n",
              "    .dataframe tbody tr th {\n",
              "        vertical-align: top;\n",
              "    }\n",
              "\n",
              "    .dataframe thead th {\n",
              "        text-align: right;\n",
              "    }\n",
              "</style>\n",
              "<table border=\"1\" class=\"dataframe\">\n",
              "  <thead>\n",
              "    <tr style=\"text-align: right;\">\n",
              "      <th></th>\n",
              "      <th>CustomerID</th>\n",
              "      <th>TotalSpend</th>\n",
              "      <th>TotalUnits</th>\n",
              "      <th>AveragePrice</th>\n",
              "    </tr>\n",
              "  </thead>\n",
              "  <tbody>\n",
              "    <tr>\n",
              "      <th>0</th>\n",
              "      <td>12346.0</td>\n",
              "      <td>77183.60</td>\n",
              "      <td>74215</td>\n",
              "      <td>1.040000</td>\n",
              "    </tr>\n",
              "    <tr>\n",
              "      <th>1</th>\n",
              "      <td>12347.0</td>\n",
              "      <td>4310.00</td>\n",
              "      <td>2458</td>\n",
              "      <td>1.753458</td>\n",
              "    </tr>\n",
              "    <tr>\n",
              "      <th>2</th>\n",
              "      <td>12348.0</td>\n",
              "      <td>1437.24</td>\n",
              "      <td>2332</td>\n",
              "      <td>0.616312</td>\n",
              "    </tr>\n",
              "    <tr>\n",
              "      <th>3</th>\n",
              "      <td>12349.0</td>\n",
              "      <td>1457.55</td>\n",
              "      <td>630</td>\n",
              "      <td>2.313571</td>\n",
              "    </tr>\n",
              "    <tr>\n",
              "      <th>4</th>\n",
              "      <td>12350.0</td>\n",
              "      <td>294.40</td>\n",
              "      <td>196</td>\n",
              "      <td>1.502041</td>\n",
              "    </tr>\n",
              "  </tbody>\n",
              "</table>\n",
              "</div>"
            ],
            "text/plain": [
              "   CustomerID  TotalSpend  TotalUnits  AveragePrice\n",
              "0     12346.0    77183.60       74215      1.040000\n",
              "1     12347.0     4310.00        2458      1.753458\n",
              "2     12348.0     1437.24        2332      0.616312\n",
              "3     12349.0     1457.55         630      2.313571\n",
              "4     12350.0      294.40         196      1.502041"
            ]
          },
          "metadata": {},
          "execution_count": 29
        }
      ]
    },
    {
      "cell_type": "markdown",
      "metadata": {
        "id": "25EWNNZV9Wxj"
      },
      "source": [
        "\n",
        "## Merge `df_u` and `df_s`, call new dataframe df_c (c for \"consumer\")\n",
        "\n",
        "Using the variables in `df_c`, compute the following additional column:\n",
        "1. Spend per transaction (call it \"SpendPerTrans\")\n",
        "\n",
        "In total, you should have `df_c` with columns `['CustomerID', 'NTrans', 'NProducts', 'TotalSpend', 'AveragePrice', 'SpendPerTrans']`\n"
      ]
    },
    {
      "cell_type": "markdown",
      "metadata": {
        "id": "T3ar9ARRWWC6"
      },
      "source": [
        "**Answer this**\n",
        "\n",
        "On what column should you merge `df_s` and `df_u`?\n",
        "\n",
        "* Answer: __________CustomerID___________"
      ]
    },
    {
      "cell_type": "code",
      "metadata": {
        "id": "XsPDlZAsQMSf",
        "colab": {
          "base_uri": "https://localhost:8080/",
          "height": 206
        },
        "outputId": "a3f73ba3-1672-4c17-e1a4-c8daf2f23d05"
      },
      "source": [
        "# do the merge (review notes from module 3 on merges if necessary)\n",
        "# use an outer merge, call resulting dataframe, df_c\n",
        "df_c = pd.merge(df_s, df_u, on=[\"CustomerID\"])\n",
        "df_c.head()"
      ],
      "execution_count": null,
      "outputs": [
        {
          "output_type": "execute_result",
          "data": {
            "text/html": [
              "<div>\n",
              "<style scoped>\n",
              "    .dataframe tbody tr th:only-of-type {\n",
              "        vertical-align: middle;\n",
              "    }\n",
              "\n",
              "    .dataframe tbody tr th {\n",
              "        vertical-align: top;\n",
              "    }\n",
              "\n",
              "    .dataframe thead th {\n",
              "        text-align: right;\n",
              "    }\n",
              "</style>\n",
              "<table border=\"1\" class=\"dataframe\">\n",
              "  <thead>\n",
              "    <tr style=\"text-align: right;\">\n",
              "      <th></th>\n",
              "      <th>CustomerID</th>\n",
              "      <th>TotalSpend</th>\n",
              "      <th>TotalUnits</th>\n",
              "      <th>AveragePrice</th>\n",
              "      <th>NTrans</th>\n",
              "      <th>NProducts</th>\n",
              "    </tr>\n",
              "  </thead>\n",
              "  <tbody>\n",
              "    <tr>\n",
              "      <th>0</th>\n",
              "      <td>12346.0</td>\n",
              "      <td>77183.60</td>\n",
              "      <td>74215</td>\n",
              "      <td>1.040000</td>\n",
              "      <td>1</td>\n",
              "      <td>1</td>\n",
              "    </tr>\n",
              "    <tr>\n",
              "      <th>1</th>\n",
              "      <td>12347.0</td>\n",
              "      <td>4310.00</td>\n",
              "      <td>2458</td>\n",
              "      <td>1.753458</td>\n",
              "      <td>7</td>\n",
              "      <td>103</td>\n",
              "    </tr>\n",
              "    <tr>\n",
              "      <th>2</th>\n",
              "      <td>12348.0</td>\n",
              "      <td>1437.24</td>\n",
              "      <td>2332</td>\n",
              "      <td>0.616312</td>\n",
              "      <td>4</td>\n",
              "      <td>21</td>\n",
              "    </tr>\n",
              "    <tr>\n",
              "      <th>3</th>\n",
              "      <td>12349.0</td>\n",
              "      <td>1457.55</td>\n",
              "      <td>630</td>\n",
              "      <td>2.313571</td>\n",
              "      <td>1</td>\n",
              "      <td>72</td>\n",
              "    </tr>\n",
              "    <tr>\n",
              "      <th>4</th>\n",
              "      <td>12350.0</td>\n",
              "      <td>294.40</td>\n",
              "      <td>196</td>\n",
              "      <td>1.502041</td>\n",
              "      <td>1</td>\n",
              "      <td>16</td>\n",
              "    </tr>\n",
              "  </tbody>\n",
              "</table>\n",
              "</div>"
            ],
            "text/plain": [
              "   CustomerID  TotalSpend  TotalUnits  AveragePrice  NTrans  NProducts\n",
              "0     12346.0    77183.60       74215      1.040000       1          1\n",
              "1     12347.0     4310.00        2458      1.753458       7        103\n",
              "2     12348.0     1437.24        2332      0.616312       4         21\n",
              "3     12349.0     1457.55         630      2.313571       1         72\n",
              "4     12350.0      294.40         196      1.502041       1         16"
            ]
          },
          "metadata": {},
          "execution_count": 34
        }
      ]
    },
    {
      "cell_type": "code",
      "metadata": {
        "id": "EDIpKkWeHCFd"
      },
      "source": [
        "# create the column 'SpendPerTrans'\n",
        "df_c['SpendPerTrans'] = df_c['TotalSpend']/df_c['NTrans']\n"
      ],
      "execution_count": null,
      "outputs": []
    },
    {
      "cell_type": "code",
      "metadata": {
        "id": "9Mm2LDzNYj_S",
        "colab": {
          "base_uri": "https://localhost:8080/",
          "height": 206
        },
        "outputId": "8f6be7d5-ef06-44bf-a28f-c6b60d79ef15"
      },
      "source": [
        "# preview df_c to make sure it looks as expected\n",
        "df_c.head()\n"
      ],
      "execution_count": null,
      "outputs": [
        {
          "output_type": "execute_result",
          "data": {
            "text/html": [
              "<div>\n",
              "<style scoped>\n",
              "    .dataframe tbody tr th:only-of-type {\n",
              "        vertical-align: middle;\n",
              "    }\n",
              "\n",
              "    .dataframe tbody tr th {\n",
              "        vertical-align: top;\n",
              "    }\n",
              "\n",
              "    .dataframe thead th {\n",
              "        text-align: right;\n",
              "    }\n",
              "</style>\n",
              "<table border=\"1\" class=\"dataframe\">\n",
              "  <thead>\n",
              "    <tr style=\"text-align: right;\">\n",
              "      <th></th>\n",
              "      <th>CustomerID</th>\n",
              "      <th>TotalSpend</th>\n",
              "      <th>TotalUnits</th>\n",
              "      <th>AveragePrice</th>\n",
              "      <th>NTrans</th>\n",
              "      <th>NProducts</th>\n",
              "      <th>SpendPerTrans</th>\n",
              "    </tr>\n",
              "  </thead>\n",
              "  <tbody>\n",
              "    <tr>\n",
              "      <th>0</th>\n",
              "      <td>12346.0</td>\n",
              "      <td>77183.60</td>\n",
              "      <td>74215</td>\n",
              "      <td>1.040000</td>\n",
              "      <td>1</td>\n",
              "      <td>1</td>\n",
              "      <td>77183.600000</td>\n",
              "    </tr>\n",
              "    <tr>\n",
              "      <th>1</th>\n",
              "      <td>12347.0</td>\n",
              "      <td>4310.00</td>\n",
              "      <td>2458</td>\n",
              "      <td>1.753458</td>\n",
              "      <td>7</td>\n",
              "      <td>103</td>\n",
              "      <td>615.714286</td>\n",
              "    </tr>\n",
              "    <tr>\n",
              "      <th>2</th>\n",
              "      <td>12348.0</td>\n",
              "      <td>1437.24</td>\n",
              "      <td>2332</td>\n",
              "      <td>0.616312</td>\n",
              "      <td>4</td>\n",
              "      <td>21</td>\n",
              "      <td>359.310000</td>\n",
              "    </tr>\n",
              "    <tr>\n",
              "      <th>3</th>\n",
              "      <td>12349.0</td>\n",
              "      <td>1457.55</td>\n",
              "      <td>630</td>\n",
              "      <td>2.313571</td>\n",
              "      <td>1</td>\n",
              "      <td>72</td>\n",
              "      <td>1457.550000</td>\n",
              "    </tr>\n",
              "    <tr>\n",
              "      <th>4</th>\n",
              "      <td>12350.0</td>\n",
              "      <td>294.40</td>\n",
              "      <td>196</td>\n",
              "      <td>1.502041</td>\n",
              "      <td>1</td>\n",
              "      <td>16</td>\n",
              "      <td>294.400000</td>\n",
              "    </tr>\n",
              "  </tbody>\n",
              "</table>\n",
              "</div>"
            ],
            "text/plain": [
              "   CustomerID  TotalSpend  TotalUnits  ...  NTrans  NProducts  SpendPerTrans\n",
              "0     12346.0    77183.60       74215  ...       1          1   77183.600000\n",
              "1     12347.0     4310.00        2458  ...       7        103     615.714286\n",
              "2     12348.0     1437.24        2332  ...       4         21     359.310000\n",
              "3     12349.0     1457.55         630  ...       1         72    1457.550000\n",
              "4     12350.0      294.40         196  ...       1         16     294.400000\n",
              "\n",
              "[5 rows x 7 columns]"
            ]
          },
          "metadata": {},
          "execution_count": 36
        }
      ]
    },
    {
      "cell_type": "markdown",
      "metadata": {
        "id": "RRX-X9bugMkL"
      },
      "source": [
        "## Log transformation\n",
        "\n",
        "1. Plot the histogram of all the variables of df_c other than CustomerID\n",
        "1. Replace each of these variables with their respective log transformations\n",
        "1. Plot the histograms again, what's different?"
      ]
    },
    {
      "cell_type": "code",
      "metadata": {
        "id": "oJ_R1ic9eGbt",
        "colab": {
          "base_uri": "https://localhost:8080/",
          "height": 283
        },
        "outputId": "5dc09cd9-2a1a-40a5-85b2-6938520bc4c0"
      },
      "source": [
        "# plot the histogram of NTrans\n",
        "df_c['NTrans'].hist()\n"
      ],
      "execution_count": null,
      "outputs": [
        {
          "output_type": "execute_result",
          "data": {
            "text/plain": [
              "<matplotlib.axes._subplots.AxesSubplot at 0x7f98b11636d0>"
            ]
          },
          "metadata": {},
          "execution_count": 38
        },
        {
          "output_type": "display_data",
          "data": {
            "image/png": "[encoded data removed]",
            "text/plain": [
              "<Figure size 432x288 with 1 Axes>"
            ]
          },
          "metadata": {
            "needs_background": "light"
          }
        }
      ]
    },
    {
      "cell_type": "code",
      "metadata": {
        "id": "M4LAnzFPePuP",
        "colab": {
          "base_uri": "https://localhost:8080/",
          "height": 283
        },
        "outputId": "42fd1b35-e270-4588-8276-1b71a4aa10ca"
      },
      "source": [
        "# plot the histogram of NProducts\n",
        "df_c['NProducts'].hist()\n"
      ],
      "execution_count": null,
      "outputs": [
        {
          "output_type": "execute_result",
          "data": {
            "text/plain": [
              "<matplotlib.axes._subplots.AxesSubplot at 0x7f98b0faf510>"
            ]
          },
          "metadata": {},
          "execution_count": 39
        },
        {
          "output_type": "display_data",
          "data": {
            "image/png": "[encoded data removed]",
            "text/plain": [
              "<Figure size 432x288 with 1 Axes>"
            ]
          },
          "metadata": {
            "needs_background": "light"
          }
        }
      ]
    },
    {
      "cell_type": "code",
      "metadata": {
        "id": "xP_mjM8xeTTf",
        "colab": {
          "base_uri": "https://localhost:8080/",
          "height": 283
        },
        "outputId": "d87c6d59-5af2-4a37-902d-67388d74f942"
      },
      "source": [
        "# plot the histogram of TotalSpend\n",
        "df_c['TotalSpend'].hist()\n"
      ],
      "execution_count": null,
      "outputs": [
        {
          "output_type": "execute_result",
          "data": {
            "text/plain": [
              "<matplotlib.axes._subplots.AxesSubplot at 0x7f98b0add1d0>"
            ]
          },
          "metadata": {},
          "execution_count": 40
        },
        {
          "output_type": "display_data",
          "data": {
            "image/png": "[encoded data removed]",
            "text/plain": [
              "<Figure size 432x288 with 1 Axes>"
            ]
          },
          "metadata": {
            "needs_background": "light"
          }
        }
      ]
    },
    {
      "cell_type": "code",
      "metadata": {
        "id": "CJ4esbsjeYrb",
        "colab": {
          "base_uri": "https://localhost:8080/",
          "height": 283
        },
        "outputId": "867c74b0-700d-43eb-bd96-56c14585efa4"
      },
      "source": [
        "# plot the histogram of TotalUnits\n",
        "df_c['TotalUnits'].hist()\n"
      ],
      "execution_count": null,
      "outputs": [
        {
          "output_type": "execute_result",
          "data": {
            "text/plain": [
              "<matplotlib.axes._subplots.AxesSubplot at 0x7f98b1122150>"
            ]
          },
          "metadata": {},
          "execution_count": 41
        },
        {
          "output_type": "display_data",
          "data": {
            "image/png": "[encoded data removed]",
            "text/plain": [
              "<Figure size 432x288 with 1 Axes>"
            ]
          },
          "metadata": {
            "needs_background": "light"
          }
        }
      ]
    },
    {
      "cell_type": "code",
      "metadata": {
        "id": "IoIOTd6reJNp",
        "colab": {
          "base_uri": "https://localhost:8080/",
          "height": 283
        },
        "outputId": "732901c1-98d8-41a5-e8bc-40aaa3ffdecc"
      },
      "source": [
        "# plot the histogram of AveragePrice\n",
        "df_c['AveragePrice'].hist()\n",
        "\n"
      ],
      "execution_count": null,
      "outputs": [
        {
          "output_type": "execute_result",
          "data": {
            "text/plain": [
              "<matplotlib.axes._subplots.AxesSubplot at 0x7f98b09dd710>"
            ]
          },
          "metadata": {},
          "execution_count": 42
        },
        {
          "output_type": "display_data",
          "data": {
            "image/png": "[encoded data removed]",
            "text/plain": [
              "<Figure size 432x288 with 1 Axes>"
            ]
          },
          "metadata": {
            "needs_background": "light"
          }
        }
      ]
    },
    {
      "cell_type": "code",
      "metadata": {
        "id": "X0NxCocCH3OO",
        "colab": {
          "base_uri": "https://localhost:8080/",
          "height": 283
        },
        "outputId": "1bb84b95-438c-4e3c-9cd8-bdd255157159"
      },
      "source": [
        "# plot the histogram of SpendPerTrans\n",
        "df_c['SpendPerTrans'].hist()\n"
      ],
      "execution_count": null,
      "outputs": [
        {
          "output_type": "execute_result",
          "data": {
            "text/plain": [
              "<matplotlib.axes._subplots.AxesSubplot at 0x7f98b095dad0>"
            ]
          },
          "metadata": {},
          "execution_count": 43
        },
        {
          "output_type": "display_data",
          "data": {
            "image/png": "[encoded data removed]",
            "text/plain": [
              "<Figure size 432x288 with 1 Axes>"
            ]
          },
          "metadata": {
            "needs_background": "light"
          }
        }
      ]
    },
    {
      "cell_type": "code",
      "metadata": {
        "id": "Y4952ErQe1Mb"
      },
      "source": [
        "# Write a loop through all variables of df_c other than CustomerID \n",
        "# to replace each column with its log.\n",
        "# You can start the loop using: for c in df_c.columns[1:]:\n",
        "# (since df_c.columns[0] is the CustomerID column).\n",
        "# For some column, c, you can replace the column with its log using:\n",
        "# dataframe[c] = np.log(dataframe[c]) \n",
        "# (of course, use the right variable name for your dataframe)\n",
        "for c in df_c.columns[1:]:\n",
        "  df_c[c] = np.log(df_c[c])\n"
      ],
      "execution_count": null,
      "outputs": []
    },
    {
      "cell_type": "code",
      "metadata": {
        "id": "5zFUPsE3fbeF",
        "colab": {
          "base_uri": "https://localhost:8080/",
          "height": 283
        },
        "outputId": "40fb2bcb-da35-4813-e907-9cd99190911f"
      },
      "source": [
        "# plot the histogram of NTrans (after taking the log in cell above)\n",
        "\n",
        "df_c['NTrans'].hist()"
      ],
      "execution_count": null,
      "outputs": [
        {
          "output_type": "execute_result",
          "data": {
            "text/plain": [
              "<matplotlib.axes._subplots.AxesSubplot at 0x7f98b08f77d0>"
            ]
          },
          "metadata": {},
          "execution_count": 46
        },
        {
          "output_type": "display_data",
          "data": {
            "image/png": "[encoded data removed]",
            "text/plain": [
              "<Figure size 432x288 with 1 Axes>"
            ]
          },
          "metadata": {
            "needs_background": "light"
          }
        }
      ]
    },
    {
      "cell_type": "code",
      "metadata": {
        "id": "IYmRVNPIf0DC",
        "colab": {
          "base_uri": "https://localhost:8080/",
          "height": 283
        },
        "outputId": "22892f2c-dc6c-4077-8a52-dfdde28bf92d"
      },
      "source": [
        "# plot the histogram of NProducts \n",
        "df_c['NProducts'].hist()\n"
      ],
      "execution_count": null,
      "outputs": [
        {
          "output_type": "execute_result",
          "data": {
            "text/plain": [
              "<matplotlib.axes._subplots.AxesSubplot at 0x7f98b088b650>"
            ]
          },
          "metadata": {},
          "execution_count": 47
        },
        {
          "output_type": "display_data",
          "data": {
            "image/png": "[encoded data removed]",
            "text/plain": [
              "<Figure size 432x288 with 1 Axes>"
            ]
          },
          "metadata": {
            "needs_background": "light"
          }
        }
      ]
    },
    {
      "cell_type": "code",
      "metadata": {
        "id": "tE75Sq7if3Np",
        "colab": {
          "base_uri": "https://localhost:8080/",
          "height": 283
        },
        "outputId": "3bf482e4-e992-43dd-d976-550afedce805"
      },
      "source": [
        "# plot the histogram of TotalSpend \n",
        "\n",
        "df_c['TotalSpend'].hist()"
      ],
      "execution_count": null,
      "outputs": [
        {
          "output_type": "execute_result",
          "data": {
            "text/plain": [
              "<matplotlib.axes._subplots.AxesSubplot at 0x7f98b07dc250>"
            ]
          },
          "metadata": {},
          "execution_count": 48
        },
        {
          "output_type": "display_data",
          "data": {
            "image/png": "[encoded data removed]",
            "text/plain": [
              "<Figure size 432x288 with 1 Axes>"
            ]
          },
          "metadata": {
            "needs_background": "light"
          }
        }
      ]
    },
    {
      "cell_type": "code",
      "metadata": {
        "id": "482290ggf7q5",
        "colab": {
          "base_uri": "https://localhost:8080/",
          "height": 283
        },
        "outputId": "9c971596-30d6-4eb1-c1c8-ee9bcff55f0a"
      },
      "source": [
        "# plot the histogram of TotalUnits\n",
        "\n",
        "df_c['TotalUnits'].hist()"
      ],
      "execution_count": null,
      "outputs": [
        {
          "output_type": "execute_result",
          "data": {
            "text/plain": [
              "<matplotlib.axes._subplots.AxesSubplot at 0x7f98b07311d0>"
            ]
          },
          "metadata": {},
          "execution_count": 49
        },
        {
          "output_type": "display_data",
          "data": {
            "image/png": "[encoded data removed]",
            "text/plain": [
              "<Figure size 432x288 with 1 Axes>"
            ]
          },
          "metadata": {
            "needs_background": "light"
          }
        }
      ]
    },
    {
      "cell_type": "code",
      "metadata": {
        "id": "UOarQXL4gFv6",
        "colab": {
          "base_uri": "https://localhost:8080/",
          "height": 283
        },
        "outputId": "26549ffa-10e3-4e98-e5a0-617b58c7ef9b"
      },
      "source": [
        "# plot the histogram of AveragePrice \n",
        "\n",
        "df_c['AveragePrice'].hist()"
      ],
      "execution_count": null,
      "outputs": [
        {
          "output_type": "execute_result",
          "data": {
            "text/plain": [
              "<matplotlib.axes._subplots.AxesSubplot at 0x7f98b06cc150>"
            ]
          },
          "metadata": {},
          "execution_count": 50
        },
        {
          "output_type": "display_data",
          "data": {
            "image/png": "[encoded data removed]",
            "text/plain": [
              "<Figure size 432x288 with 1 Axes>"
            ]
          },
          "metadata": {
            "needs_background": "light"
          }
        }
      ]
    },
    {
      "cell_type": "code",
      "metadata": {
        "id": "OxlrIXpwH7qn",
        "colab": {
          "base_uri": "https://localhost:8080/",
          "height": 283
        },
        "outputId": "eae0c557-a33b-47d0-a8a8-ce9facfd30e6"
      },
      "source": [
        "# plot the histogram of SpendPerTrans \n",
        "df_c['SpendPerTrans'].hist()\n"
      ],
      "execution_count": null,
      "outputs": [
        {
          "output_type": "execute_result",
          "data": {
            "text/plain": [
              "<matplotlib.axes._subplots.AxesSubplot at 0x7f98b0701a50>"
            ]
          },
          "metadata": {},
          "execution_count": 51
        },
        {
          "output_type": "display_data",
          "data": {
            "image/png": "[encoded data removed]",
            "text/plain": [
              "<Figure size 432x288 with 1 Axes>"
            ]
          },
          "metadata": {
            "needs_background": "light"
          }
        }
      ]
    },
    {
      "cell_type": "markdown",
      "metadata": {
        "id": "dDZw09uBeguU"
      },
      "source": [
        "**Answer this**\n",
        "\n",
        "Why might you want to transform these variables by taking logs of each of these variables? (Notice the difference after taking the log transformation)\n",
        "\n",
        "* Answer: Log is explaining much more variation in the data. In exploration perspective normal values were not showing this much varitions."
      ]
    },
    {
      "cell_type": "markdown",
      "metadata": {
        "id": "ZM6npcrmYLi9"
      },
      "source": [
        "# Create standaradized version of df_c\n",
        "\n",
        "1. Create `df_c_std` that has all the columns of `df_c` except `CustomerID`.\n",
        "1. Write a loop through all the columns of `df_c_std` to standardize each column (compute the z-score by subtracting mean and dividing by standard deviation).\n"
      ]
    },
    {
      "cell_type": "code",
      "metadata": {
        "id": "HiRlII9OYQgE"
      },
      "source": [
        "# First, create df_c_std by selecting all columns from df_c except CustomerID\n",
        "df_c_std = df_c.drop(columns={'CustomerID'})\n"
      ],
      "execution_count": null,
      "outputs": []
    },
    {
      "cell_type": "code",
      "metadata": {
        "id": "22TAskuVZamE"
      },
      "source": [
        "# write a loop to standardize each column of df_c_std\n",
        "# by replacing each column with (that column - the mean of the column) / std of column\n",
        "for c in df_c_std.columns:\n",
        "  df_c_std[c] = (df_c_std[c]- df_c_std[c].mean())/df_c_std[c].std()\n"
      ],
      "execution_count": null,
      "outputs": []
    },
    {
      "cell_type": "code",
      "metadata": {
        "id": "oXmMOxhyZ1eF",
        "colab": {
          "base_uri": "https://localhost:8080/",
          "height": 206
        },
        "outputId": "077f81da-eedd-4dc3-fff1-d25cbc1a4e43"
      },
      "source": [
        "# preview df_c_std to make sure the values have been standardized \n",
        "df_c_std.head()\n"
      ],
      "execution_count": null,
      "outputs": [
        {
          "output_type": "execute_result",
          "data": {
            "text/html": [
              "<div>\n",
              "<style scoped>\n",
              "    .dataframe tbody tr th:only-of-type {\n",
              "        vertical-align: middle;\n",
              "    }\n",
              "\n",
              "    .dataframe tbody tr th {\n",
              "        vertical-align: top;\n",
              "    }\n",
              "\n",
              "    .dataframe thead th {\n",
              "        text-align: right;\n",
              "    }\n",
              "</style>\n",
              "<table border=\"1\" class=\"dataframe\">\n",
              "  <thead>\n",
              "    <tr style=\"text-align: right;\">\n",
              "      <th></th>\n",
              "      <th>TotalSpend</th>\n",
              "      <th>TotalUnits</th>\n",
              "      <th>AveragePrice</th>\n",
              "      <th>NTrans</th>\n",
              "      <th>NProducts</th>\n",
              "      <th>SpendPerTrans</th>\n",
              "    </tr>\n",
              "  </thead>\n",
              "  <tbody>\n",
              "    <tr>\n",
              "      <th>0</th>\n",
              "      <td>3.718600</td>\n",
              "      <td>3.807404</td>\n",
              "      <td>-1.070471</td>\n",
              "      <td>-1.043705</td>\n",
              "      <td>-2.861400</td>\n",
              "      <td>7.516677</td>\n",
              "    </tr>\n",
              "    <tr>\n",
              "      <th>1</th>\n",
              "      <td>1.424214</td>\n",
              "      <td>1.327975</td>\n",
              "      <td>-0.065642</td>\n",
              "      <td>1.119085</td>\n",
              "      <td>0.943194</td>\n",
              "      <td>1.049633</td>\n",
              "    </tr>\n",
              "    <tr>\n",
              "      <th>2</th>\n",
              "      <td>0.550901</td>\n",
              "      <td>1.289687</td>\n",
              "      <td>-2.076942</td>\n",
              "      <td>0.497097</td>\n",
              "      <td>-0.362188</td>\n",
              "      <td>0.328660</td>\n",
              "    </tr>\n",
              "    <tr>\n",
              "      <th>3</th>\n",
              "      <td>0.562060</td>\n",
              "      <td>0.337414</td>\n",
              "      <td>0.467585</td>\n",
              "      <td>-1.043705</td>\n",
              "      <td>0.649264</td>\n",
              "      <td>2.203153</td>\n",
              "    </tr>\n",
              "    <tr>\n",
              "      <th>4</th>\n",
              "      <td>-0.709940</td>\n",
              "      <td>-0.512151</td>\n",
              "      <td>-0.363348</td>\n",
              "      <td>-1.043705</td>\n",
              "      <td>-0.585415</td>\n",
              "      <td>0.061947</td>\n",
              "    </tr>\n",
              "  </tbody>\n",
              "</table>\n",
              "</div>"
            ],
            "text/plain": [
              "   TotalSpend  TotalUnits  AveragePrice    NTrans  NProducts  SpendPerTrans\n",
              "0    3.718600    3.807404     -1.070471 -1.043705  -2.861400       7.516677\n",
              "1    1.424214    1.327975     -0.065642  1.119085   0.943194       1.049633\n",
              "2    0.550901    1.289687     -2.076942  0.497097  -0.362188       0.328660\n",
              "3    0.562060    0.337414      0.467585 -1.043705   0.649264       2.203153\n",
              "4   -0.709940   -0.512151     -0.363348 -1.043705  -0.585415       0.061947"
            ]
          },
          "metadata": {},
          "execution_count": 55
        }
      ]
    },
    {
      "cell_type": "markdown",
      "metadata": {
        "id": "k74kDrhraT7G"
      },
      "source": [
        "**Answer question**\n",
        "\n",
        "Why is it important to standardize variables before performing clustering?\n",
        "\n",
        "* Answer: Since clustering algorithms including kmeans use distance-based measurements to determine the similarity between data points, it's recommended to standardize the data to have a mean of zero and a standard deviation of one."
      ]
    },
    {
      "cell_type": "markdown",
      "metadata": {
        "id": "If2zZNEsmC10"
      },
      "source": [
        "# Part 2 Segmentation (5 points)\n"
      ]
    },
    {
      "cell_type": "markdown",
      "metadata": {
        "id": "9xNZsG0TYO8E"
      },
      "source": [
        "\n",
        "## Dimensionality reduction\n",
        "\n",
        "1. Compute the 2D principal components transformation of `df_c_std`, call this `transformed`\n",
        "1. Make sure `transformed` is a dataframe, then name the columns 'p0' and 'p1' for principal component 0 and 1, respectively.\n",
        "1. Add `p0` and `p1` to the df_c dataframe (create the same 2 columns in df_c).\n",
        "\n",
        "Create a scatter plot of the principal components 0 vs 1. \n"
      ]
    },
    {
      "cell_type": "markdown",
      "metadata": {
        "id": "g-UvjJcfbBMp"
      },
      "source": [
        "**Answer question**\n",
        "\n",
        "Why might you want to reduce the dimensionality of your data (using PCA) before performing clustering?\n",
        "\n",
        "* Answer: Dimensionality reduction is way to reduce the complexity of a model and avoid overfitting"
      ]
    },
    {
      "cell_type": "code",
      "metadata": {
        "id": "D7J7Iyeta6hx"
      },
      "source": [
        "# Use PCA to reduce df_c_std to its first 2 principle components\n",
        "# store the result as 2 columns in the *df_c* dataframe:\n",
        "# 'pc1' and 'pc2'\n",
        "from sklearn.decomposition import PCA\n",
        "pca = PCA(n_components=2)\n",
        "pca_result = pca.fit_transform(df_c_std)\n",
        "pca_df = pd.DataFrame(data = pca_result, columns = ['pc1', 'pc2'])\n",
        "\n",
        "df_c['pc1'] = pca_df['pc1']\n",
        "df_c['pc2'] = pca_df['pc2']\n",
        "\n"
      ],
      "execution_count": null,
      "outputs": []
    },
    {
      "cell_type": "code",
      "metadata": {
        "id": "yTqP6A_KdVVz",
        "colab": {
          "base_uri": "https://localhost:8080/",
          "height": 206
        },
        "outputId": "742301fc-b119-4445-9e1c-cdba91d86302"
      },
      "source": [
        "# take a look at df_c to make sure principle components are in the dataframe\n",
        "df_c.head()\n",
        "\n"
      ],
      "execution_count": null,
      "outputs": [
        {
          "output_type": "execute_result",
          "data": {
            "text/html": [
              "<div>\n",
              "<style scoped>\n",
              "    .dataframe tbody tr th:only-of-type {\n",
              "        vertical-align: middle;\n",
              "    }\n",
              "\n",
              "    .dataframe tbody tr th {\n",
              "        vertical-align: top;\n",
              "    }\n",
              "\n",
              "    .dataframe thead th {\n",
              "        text-align: right;\n",
              "    }\n",
              "</style>\n",
              "<table border=\"1\" class=\"dataframe\">\n",
              "  <thead>\n",
              "    <tr style=\"text-align: right;\">\n",
              "      <th></th>\n",
              "      <th>CustomerID</th>\n",
              "      <th>TotalSpend</th>\n",
              "      <th>TotalUnits</th>\n",
              "      <th>AveragePrice</th>\n",
              "      <th>NTrans</th>\n",
              "      <th>NProducts</th>\n",
              "      <th>SpendPerTrans</th>\n",
              "      <th>pc1</th>\n",
              "      <th>pc2</th>\n",
              "    </tr>\n",
              "  </thead>\n",
              "  <tbody>\n",
              "    <tr>\n",
              "      <th>0</th>\n",
              "      <td>12346.0</td>\n",
              "      <td>11.253942</td>\n",
              "      <td>11.214722</td>\n",
              "      <td>0.039221</td>\n",
              "      <td>0.000000</td>\n",
              "      <td>0.000000</td>\n",
              "      <td>11.253942</td>\n",
              "      <td>4.916838</td>\n",
              "      <td>0.740811</td>\n",
              "    </tr>\n",
              "    <tr>\n",
              "      <th>1</th>\n",
              "      <td>12347.0</td>\n",
              "      <td>8.368693</td>\n",
              "      <td>7.807103</td>\n",
              "      <td>0.561590</td>\n",
              "      <td>1.945910</td>\n",
              "      <td>4.634729</td>\n",
              "      <td>6.422783</td>\n",
              "      <td>2.632158</td>\n",
              "      <td>0.281418</td>\n",
              "    </tr>\n",
              "    <tr>\n",
              "      <th>2</th>\n",
              "      <td>12348.0</td>\n",
              "      <td>7.270480</td>\n",
              "      <td>7.754482</td>\n",
              "      <td>-0.484002</td>\n",
              "      <td>1.386294</td>\n",
              "      <td>3.044522</td>\n",
              "      <td>5.884186</td>\n",
              "      <td>1.343655</td>\n",
              "      <td>-1.924887</td>\n",
              "    </tr>\n",
              "    <tr>\n",
              "      <th>3</th>\n",
              "      <td>12349.0</td>\n",
              "      <td>7.284512</td>\n",
              "      <td>6.445720</td>\n",
              "      <td>0.838792</td>\n",
              "      <td>0.000000</td>\n",
              "      <td>4.276666</td>\n",
              "      <td>7.284512</td>\n",
              "      <td>1.007478</td>\n",
              "      <td>0.852119</td>\n",
              "    </tr>\n",
              "    <tr>\n",
              "      <th>4</th>\n",
              "      <td>12350.0</td>\n",
              "      <td>5.684939</td>\n",
              "      <td>5.278115</td>\n",
              "      <td>0.406825</td>\n",
              "      <td>0.000000</td>\n",
              "      <td>2.772589</td>\n",
              "      <td>5.684939</td>\n",
              "      <td>-1.237310</td>\n",
              "      <td>-0.447156</td>\n",
              "    </tr>\n",
              "  </tbody>\n",
              "</table>\n",
              "</div>"
            ],
            "text/plain": [
              "   CustomerID  TotalSpend  TotalUnits  ...  SpendPerTrans       pc1       pc2\n",
              "0     12346.0   11.253942   11.214722  ...      11.253942  4.916838  0.740811\n",
              "1     12347.0    8.368693    7.807103  ...       6.422783  2.632158  0.281418\n",
              "2     12348.0    7.270480    7.754482  ...       5.884186  1.343655 -1.924887\n",
              "3     12349.0    7.284512    6.445720  ...       7.284512  1.007478  0.852119\n",
              "4     12350.0    5.684939    5.278115  ...       5.684939 -1.237310 -0.447156\n",
              "\n",
              "[5 rows x 9 columns]"
            ]
          },
          "metadata": {},
          "execution_count": 87
        }
      ]
    },
    {
      "cell_type": "code",
      "metadata": {
        "id": "4eyoD1r2dxoq",
        "colab": {
          "base_uri": "https://localhost:8080/",
          "height": 283
        },
        "outputId": "a5f33ac4-8c5d-4300-cfa2-328ee88f8c4d"
      },
      "source": [
        "# Create a scatterplot of pc1 vs pc2\n",
        "df_c[['pc1', 'pc2']].plot(style=['o','rx'])\n"
      ],
      "execution_count": null,
      "outputs": [
        {
          "output_type": "execute_result",
          "data": {
            "text/plain": [
              "<matplotlib.axes._subplots.AxesSubplot at 0x7f98a4aac090>"
            ]
          },
          "metadata": {},
          "execution_count": 92
        },
        {
          "output_type": "display_data",
          "data": {
            "image/png": "[encoded data removed]",
            "text/plain": [
              "<Figure size 432x288 with 1 Axes>"
            ]
          },
          "metadata": {
            "needs_background": "light"
          }
        }
      ]
    },
    {
      "cell_type": "markdown",
      "metadata": {
        "id": "YM7vMz1zaKcS"
      },
      "source": [
        "\n",
        "## Segmentation\n",
        "Using a loop, compute the k-means clustering for $k$ from 2 to 10 segments using the `transformed` dataframe. Store the segment as the column `'seg2'`,`'seg3'`,...,`'seg10'` in the `df_c` dataframe. Make sure you store the inertia metrics in a list called `elbowdata` like in the notes. Create the elbow plot for your k-means clustering. \n",
        "\n",
        "1. How many segments does there appear to be based on the elbow plot?\n",
        "1. Use a loop to plot p0 vs p1 for each segment (different color for each segment)\n",
        "1. Use a groupby statement to show the mean of the variables in the raw versions (not z-scores) used to conduct the segmentation. e.g. what are the averages of `['NTrans', 'NProducts', 'TotalSpend', 'AveragePrice', 'SpendPerTrans', 'SKUsPerTrans']`\n",
        "\n",
        "1. In a few sentences, describe what are the characteristics of the resulting segments. Any distinctive segments?\n",
        "\n",
        "**Hints**\n",
        "1. Note here that `k` should be the number of clusters at each iteration of your loop, e.g. `for k in ....` \n",
        "2. `df_c['seg{}'.format(k)]=` your k-means segmentation to create the `'seg2'`, ..., `'seg15'` columns."
      ]
    },
    {
      "cell_type": "code",
      "metadata": {
        "id": "PoySPb11g4Oz"
      },
      "source": [
        "# Write a loop to perform k-means segmentation \n",
        "# on the principal component columns, e.g. pc1 and pc2, in *df_c*\n",
        "# for k from 2 to 10, e.g. for k in range(2,11):\n",
        "# Be sure to save the inertia metric to create the elbowplot\n",
        "# see similar example in notes\n",
        "from sklearn.cluster import KMeans\n",
        "i=2\n",
        "while(i<11):\n",
        "\n",
        "  km = KMeans(n_clusters=i)\n",
        "  y_predicted = km.fit_predict(df_c)\n",
        "  df_c['seg{}'.format(i)] =y_predicted\n",
        "  i = i+1\n"
      ],
      "execution_count": null,
      "outputs": []
    },
    {
      "cell_type": "code",
      "metadata": {
        "id": "dJBzu1CSjpqa",
        "colab": {
          "base_uri": "https://localhost:8080/",
          "height": 226
        },
        "outputId": "a8edb897-b5d0-445c-9f72-6ece23770e1a"
      },
      "source": [
        "# preview your dataframe df_c to get an idea of the contents\n",
        "df_c.head()\n"
      ],
      "execution_count": null,
      "outputs": [
        {
          "output_type": "execute_result",
          "data": {
            "text/html": [
              "<div>\n",
              "<style scoped>\n",
              "    .dataframe tbody tr th:only-of-type {\n",
              "        vertical-align: middle;\n",
              "    }\n",
              "\n",
              "    .dataframe tbody tr th {\n",
              "        vertical-align: top;\n",
              "    }\n",
              "\n",
              "    .dataframe thead th {\n",
              "        text-align: right;\n",
              "    }\n",
              "</style>\n",
              "<table border=\"1\" class=\"dataframe\">\n",
              "  <thead>\n",
              "    <tr style=\"text-align: right;\">\n",
              "      <th></th>\n",
              "      <th>CustomerID</th>\n",
              "      <th>TotalSpend</th>\n",
              "      <th>TotalUnits</th>\n",
              "      <th>AveragePrice</th>\n",
              "      <th>NTrans</th>\n",
              "      <th>NProducts</th>\n",
              "      <th>SpendPerTrans</th>\n",
              "      <th>pc1</th>\n",
              "      <th>pc2</th>\n",
              "      <th>seg2</th>\n",
              "      <th>seg3</th>\n",
              "      <th>seg4</th>\n",
              "      <th>seg5</th>\n",
              "      <th>seg6</th>\n",
              "      <th>seg7</th>\n",
              "      <th>seg8</th>\n",
              "      <th>seg9</th>\n",
              "      <th>seg10</th>\n",
              "    </tr>\n",
              "  </thead>\n",
              "  <tbody>\n",
              "    <tr>\n",
              "      <th>0</th>\n",
              "      <td>12346.0</td>\n",
              "      <td>11.253942</td>\n",
              "      <td>11.214722</td>\n",
              "      <td>0.039221</td>\n",
              "      <td>0.000000</td>\n",
              "      <td>0.000000</td>\n",
              "      <td>11.253942</td>\n",
              "      <td>4.916838</td>\n",
              "      <td>0.740811</td>\n",
              "      <td>0</td>\n",
              "      <td>1</td>\n",
              "      <td>1</td>\n",
              "      <td>1</td>\n",
              "      <td>4</td>\n",
              "      <td>2</td>\n",
              "      <td>3</td>\n",
              "      <td>2</td>\n",
              "      <td>8</td>\n",
              "    </tr>\n",
              "    <tr>\n",
              "      <th>1</th>\n",
              "      <td>12347.0</td>\n",
              "      <td>8.368693</td>\n",
              "      <td>7.807103</td>\n",
              "      <td>0.561590</td>\n",
              "      <td>1.945910</td>\n",
              "      <td>4.634729</td>\n",
              "      <td>6.422783</td>\n",
              "      <td>2.632158</td>\n",
              "      <td>0.281418</td>\n",
              "      <td>0</td>\n",
              "      <td>1</td>\n",
              "      <td>1</td>\n",
              "      <td>1</td>\n",
              "      <td>4</td>\n",
              "      <td>2</td>\n",
              "      <td>3</td>\n",
              "      <td>2</td>\n",
              "      <td>8</td>\n",
              "    </tr>\n",
              "    <tr>\n",
              "      <th>2</th>\n",
              "      <td>12348.0</td>\n",
              "      <td>7.270480</td>\n",
              "      <td>7.754482</td>\n",
              "      <td>-0.484002</td>\n",
              "      <td>1.386294</td>\n",
              "      <td>3.044522</td>\n",
              "      <td>5.884186</td>\n",
              "      <td>1.343655</td>\n",
              "      <td>-1.924887</td>\n",
              "      <td>0</td>\n",
              "      <td>1</td>\n",
              "      <td>1</td>\n",
              "      <td>1</td>\n",
              "      <td>4</td>\n",
              "      <td>2</td>\n",
              "      <td>3</td>\n",
              "      <td>2</td>\n",
              "      <td>8</td>\n",
              "    </tr>\n",
              "    <tr>\n",
              "      <th>3</th>\n",
              "      <td>12349.0</td>\n",
              "      <td>7.284512</td>\n",
              "      <td>6.445720</td>\n",
              "      <td>0.838792</td>\n",
              "      <td>0.000000</td>\n",
              "      <td>4.276666</td>\n",
              "      <td>7.284512</td>\n",
              "      <td>1.007478</td>\n",
              "      <td>0.852119</td>\n",
              "      <td>0</td>\n",
              "      <td>1</td>\n",
              "      <td>1</td>\n",
              "      <td>1</td>\n",
              "      <td>4</td>\n",
              "      <td>2</td>\n",
              "      <td>3</td>\n",
              "      <td>2</td>\n",
              "      <td>8</td>\n",
              "    </tr>\n",
              "    <tr>\n",
              "      <th>4</th>\n",
              "      <td>12350.0</td>\n",
              "      <td>5.684939</td>\n",
              "      <td>5.278115</td>\n",
              "      <td>0.406825</td>\n",
              "      <td>0.000000</td>\n",
              "      <td>2.772589</td>\n",
              "      <td>5.684939</td>\n",
              "      <td>-1.237310</td>\n",
              "      <td>-0.447156</td>\n",
              "      <td>0</td>\n",
              "      <td>1</td>\n",
              "      <td>1</td>\n",
              "      <td>1</td>\n",
              "      <td>4</td>\n",
              "      <td>2</td>\n",
              "      <td>3</td>\n",
              "      <td>2</td>\n",
              "      <td>8</td>\n",
              "    </tr>\n",
              "  </tbody>\n",
              "</table>\n",
              "</div>"
            ],
            "text/plain": [
              "   CustomerID  TotalSpend  TotalUnits  AveragePrice  ...  seg7  seg8  seg9  seg10\n",
              "0     12346.0   11.253942   11.214722      0.039221  ...     2     3     2      8\n",
              "1     12347.0    8.368693    7.807103      0.561590  ...     2     3     2      8\n",
              "2     12348.0    7.270480    7.754482     -0.484002  ...     2     3     2      8\n",
              "3     12349.0    7.284512    6.445720      0.838792  ...     2     3     2      8\n",
              "4     12350.0    5.684939    5.278115      0.406825  ...     2     3     2      8\n",
              "\n",
              "[5 rows x 18 columns]"
            ]
          },
          "metadata": {},
          "execution_count": 98
        }
      ]
    },
    {
      "cell_type": "markdown",
      "metadata": {
        "id": "LAGmDztOj8fo"
      },
      "source": [
        "**Answer this**\n",
        "What does each of the segk (for k =1,...,10) columns represent?\n",
        "\n",
        "1. Answer: "
      ]
    },
    {
      "cell_type": "code",
      "metadata": {
        "id": "b8f-xQZHhur2",
        "colab": {
          "base_uri": "https://localhost:8080/",
          "height": 560
        },
        "outputId": "8ecf2941-b93a-4714-93e3-74903eef3ce4"
      },
      "source": [
        "# Create the elbow plot\n",
        "plt.plot(km.cluster_centers_)\n"
      ],
      "execution_count": null,
      "outputs": [
        {
          "output_type": "execute_result",
          "data": {
            "text/plain": [
              "[<matplotlib.lines.Line2D at 0x7f98a4a07290>,\n",
              " <matplotlib.lines.Line2D at 0x7f98a4a0eb10>,\n",
              " <matplotlib.lines.Line2D at 0x7f98a4a0ef50>,\n",
              " <matplotlib.lines.Line2D at 0x7f98a4a0e550>,\n",
              " <matplotlib.lines.Line2D at 0x7f98a4a0edd0>,\n",
              " <matplotlib.lines.Line2D at 0x7f98a4a0ea50>,\n",
              " <matplotlib.lines.Line2D at 0x7f98a4a0ef90>,\n",
              " <matplotlib.lines.Line2D at 0x7f98a4a0e0d0>,\n",
              " <matplotlib.lines.Line2D at 0x7f98a4a0e790>,\n",
              " <matplotlib.lines.Line2D at 0x7f98a4a0ead0>,\n",
              " <matplotlib.lines.Line2D at 0x7f98a4a07e10>,\n",
              " <matplotlib.lines.Line2D at 0x7f98a4a2b850>,\n",
              " <matplotlib.lines.Line2D at 0x7f98a4a0ccd0>,\n",
              " <matplotlib.lines.Line2D at 0x7f98a4a0cf50>,\n",
              " <matplotlib.lines.Line2D at 0x7f98a4a0c590>,\n",
              " <matplotlib.lines.Line2D at 0x7f98a4a0ce10>,\n",
              " <matplotlib.lines.Line2D at 0x7f98a4a0c190>]"
            ]
          },
          "metadata": {},
          "execution_count": 99
        },
        {
          "output_type": "display_data",
          "data": {
            "image/png": "[encoded data removed]",
            "text/plain": [
              "<Figure size 432x288 with 1 Axes>"
            ]
          },
          "metadata": {
            "needs_background": "light"
          }
        }
      ]
    },
    {
      "cell_type": "markdown",
      "metadata": {
        "id": "Kmh4Hzbpir6H"
      },
      "source": [
        "**Answer this**\n",
        "Based on the eyeball test, where is the \"elbow\"? i.e. how many clusters seems the \"right\" number\n",
        "1. Answer: "
      ]
    },
    {
      "cell_type": "markdown",
      "metadata": {
        "id": "KPpc9erki3_R"
      },
      "source": [
        "## Inspect segments"
      ]
    },
    {
      "cell_type": "code",
      "metadata": {
        "id": "0HopXsWkjepu",
        "colab": {
          "base_uri": "https://localhost:8080/",
          "height": 265
        },
        "outputId": "5c41140b-19f8-42f5-c1d1-e168a4716e63"
      },
      "source": [
        "# Write a loop through each of the segments in your optimal KMeans cluster \n",
        "# and plot pc1 vs pc2 for that segment\n",
        "# similar to plotting price vs demand for each region of avocados dataset\n",
        "# use dot size 1\n",
        "# e.g.\n",
        "# for s in df_c['segk'].unique():\n",
        "#     temp = df_c[df_c['segk'] == s]\n",
        "#     plt.scatter(temp.pc1, temp.pc2, s = 1)\n",
        "# where segk is whichever KMeans result you deemed optimal based on previous elbow plot \n",
        "\n",
        "for s in df_c['seg4'].unique():\n",
        "     temp = df_c[df_c['seg4'] == s]\n",
        "     plt.scatter(temp.pc1, temp.pc2, s = 1)\n",
        "\n"
      ],
      "execution_count": null,
      "outputs": [
        {
          "output_type": "display_data",
          "data": {
            "image/png": "[encoded data removed]",
            "text/plain": [
              "<Figure size 432x288 with 1 Axes>"
            ]
          },
          "metadata": {
            "needs_background": "light"
          }
        }
      ]
    },
    {
      "cell_type": "markdown",
      "metadata": {
        "id": "3TTVE4COi8Dp"
      },
      "source": [
        "Compute the average of: \n",
        "```\n",
        "NTrans\tNProducts\tTotalSpend\tTotalUnits\tAveragePrice SpendPerTrans\n",
        "```\n",
        "For each segment of the optimal KMeans segmentation (optimal being the k you found above in elbow plot).\n",
        "\n",
        "Since these variables in df_c have been log-transformed, use np.exp(the appropriate groupby + mean statement) to take the exponent of the resulting means, i.e. \"undo\" the log-transformation.\n",
        "\n",
        "e.g. np.exp(df.groupby('grpvar')['var1', 'var2','var3',...,etc.].mean())"
      ]
    },
    {
      "cell_type": "code",
      "metadata": {
        "id": "xAwQEioMjcw9",
        "colab": {
          "base_uri": "https://localhost:8080/",
          "height": 261
        },
        "outputId": "ed20b495-e05f-411f-99be-032bdf4122d5"
      },
      "source": [
        "# segment averages\n",
        "\n",
        "np.exp(df_c.groupby('seg4')['NTrans', 'NProducts','TotalSpend','TotalUnits','AveragePrice','SpendPerTrans'].mean())"
      ],
      "execution_count": null,
      "outputs": [
        {
          "output_type": "stream",
          "name": "stderr",
          "text": [
            "/usr/local/lib/python3.7/dist-packages/ipykernel_launcher.py:3: FutureWarning: Indexing with multiple keys (implicitly converted to a tuple of keys) will be deprecated, use a list instead.\n",
            "  This is separate from the ipykernel package so we can avoid doing imports until\n"
          ]
        },
        {
          "output_type": "execute_result",
          "data": {
            "text/html": [
              "<div>\n",
              "<style scoped>\n",
              "    .dataframe tbody tr th:only-of-type {\n",
              "        vertical-align: middle;\n",
              "    }\n",
              "\n",
              "    .dataframe tbody tr th {\n",
              "        vertical-align: top;\n",
              "    }\n",
              "\n",
              "    .dataframe thead th {\n",
              "        text-align: right;\n",
              "    }\n",
              "</style>\n",
              "<table border=\"1\" class=\"dataframe\">\n",
              "  <thead>\n",
              "    <tr style=\"text-align: right;\">\n",
              "      <th></th>\n",
              "      <th>NTrans</th>\n",
              "      <th>NProducts</th>\n",
              "      <th>TotalSpend</th>\n",
              "      <th>TotalUnits</th>\n",
              "      <th>AveragePrice</th>\n",
              "      <th>SpendPerTrans</th>\n",
              "    </tr>\n",
              "    <tr>\n",
              "      <th>seg4</th>\n",
              "      <th></th>\n",
              "      <th></th>\n",
              "      <th></th>\n",
              "      <th></th>\n",
              "      <th></th>\n",
              "      <th></th>\n",
              "    </tr>\n",
              "  </thead>\n",
              "  <tbody>\n",
              "    <tr>\n",
              "      <th>0</th>\n",
              "      <td>2.586859</td>\n",
              "      <td>31.632097</td>\n",
              "      <td>637.663173</td>\n",
              "      <td>356.457596</td>\n",
              "      <td>1.788889</td>\n",
              "      <td>246.500893</td>\n",
              "    </tr>\n",
              "    <tr>\n",
              "      <th>1</th>\n",
              "      <td>2.511005</td>\n",
              "      <td>32.384391</td>\n",
              "      <td>809.900220</td>\n",
              "      <td>447.850300</td>\n",
              "      <td>1.808417</td>\n",
              "      <td>322.540313</td>\n",
              "    </tr>\n",
              "    <tr>\n",
              "      <th>2</th>\n",
              "      <td>2.648903</td>\n",
              "      <td>33.590612</td>\n",
              "      <td>750.923571</td>\n",
              "      <td>410.324082</td>\n",
              "      <td>1.830074</td>\n",
              "      <td>283.484695</td>\n",
              "    </tr>\n",
              "    <tr>\n",
              "      <th>3</th>\n",
              "      <td>2.486788</td>\n",
              "      <td>32.971454</td>\n",
              "      <td>684.977906</td>\n",
              "      <td>374.437278</td>\n",
              "      <td>1.829353</td>\n",
              "      <td>275.446890</td>\n",
              "    </tr>\n",
              "  </tbody>\n",
              "</table>\n",
              "</div>"
            ],
            "text/plain": [
              "        NTrans  NProducts  TotalSpend  TotalUnits  AveragePrice  SpendPerTrans\n",
              "seg4                                                                          \n",
              "0     2.586859  31.632097  637.663173  356.457596      1.788889     246.500893\n",
              "1     2.511005  32.384391  809.900220  447.850300      1.808417     322.540313\n",
              "2     2.648903  33.590612  750.923571  410.324082      1.830074     283.484695\n",
              "3     2.486788  32.971454  684.977906  374.437278      1.829353     275.446890"
            ]
          },
          "metadata": {},
          "execution_count": 102
        }
      ]
    },
    {
      "cell_type": "markdown",
      "metadata": {
        "id": "5EpCCf8yaNid"
      },
      "source": [
        "**Answer questions below**\n",
        "1. Which segment buys the most expensive items?\n",
        "    * Answer: Segment at index = 2\n",
        "1. Which segment spends the most? \n",
        "    * Answer: Segment at index = 1\n",
        "1. Which segment buys the most variety of products?\n",
        "    * Answer: Segment at index = 2\n",
        "1. Which segment buys the  least variety of products?\n",
        "    * Answer: Segment at index = 0\n",
        "1. Are there any segments that seem like they should be combined?\n",
        "    * Answer: No\n",
        "1. Suppose you want to run some promotions that will get customers to spend more. Pick 2 of the segments that are very different and describe a hypothetical promotional campaign targeted at each (e.g. could be some kind discount with a min. spend qualification, or maybe some kind of a volume discount, etc. - be creative). Explain why each campaign might be a better fit for the targeted segment.\n",
        "    * Answer: Yes we can attract segment at index = 1 through promotion becuse thier spent is maximum in this. We can attract segment at index = 2 by increasing the product varaiety as they have maximum numbers in purchasing different varaiet. "
      ]
    },
    {
      "cell_type": "code",
      "metadata": {
        "id": "-pLDtx8lmPzq"
      },
      "source": [
        ""
      ],
      "execution_count": null,
      "outputs": []
    },
    {
      "cell_type": "code",
      "metadata": {
        "id": "50TWKVKCLmJh"
      },
      "source": [
        ""
      ],
      "execution_count": null,
      "outputs": []
    }
  ]
}